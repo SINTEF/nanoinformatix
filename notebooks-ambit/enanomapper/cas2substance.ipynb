{
 "cells": [
  {
   "cell_type": "markdown",
   "metadata": {},
   "source": [
    "# Demo AMBIT query\n",
    "\n",
    "- reads a file into dataframe\n",
    "- retrieve chemical structure by identifier given as dataframe  column  via AMBIT API\n",
    "- retrieve substance related information by querying substance by name given as dataframe  column  via AMBIT API"
   ]
  },
  {
   "cell_type": "code",
   "execution_count": null,
   "metadata": {},
   "outputs": [],
   "source": [
    "import importlib\n",
    "from pynanomapper import aa\n",
    "import ipywidgets as widgets\n",
    "from ipywidgets import interact, interactive, fixed, interact_manual\n",
    "import requests\n",
    "from importlib import reload \n",
    "from pynanomapper import client_solr\n",
    "from pynanomapper import client_ambit\n",
    "from pynanomapper import annotation\n",
    "import pandas as pd\n",
    "import numpy as np\n",
    "import json\n",
    "import warnings\n",
    "warnings.filterwarnings(\"ignore\")"
   ]
  },
  {
   "cell_type": "code",
   "execution_count": null,
   "metadata": {},
   "outputs": [],
   "source": [
    "def search_service_protected(url_ambit,apikey):\n",
    "    return (url_ambit,apikey)\n",
    "\n",
    "service_widget =widgets.Text(\n",
    "       placeholder='',\n",
    "       description=\"AMBIT URL\",\n",
    "       disabled=False,\n",
    "       style={'description_width': 'initial'}\n",
    ") \n",
    "apikey_widget=widgets.Text(\n",
    "          placeholder='',\n",
    "           description=\"API key\",\n",
    "           disabled=False,\n",
    "           style={'description_width': 'initial'}\n",
    ")    \n",
    "service = interactive(search_service_protected,url_ambit=service_widget,apikey=apikey_widget)    \n",
    "display(service)"
   ]
  },
  {
   "cell_type": "code",
   "execution_count": null,
   "metadata": {},
   "outputs": [],
   "source": [
    "ambit_uri=service_widget.value\n",
    "auth_object = aa.AmbitAPIKEYAuth()\n",
    "auth_object.setKey(apikey_widget.value)\n",
    "\n",
    "#getSubstanceComposition(http,ambit_url,substance_uuid):"
   ]
  },
  {
   "cell_type": "code",
   "execution_count": null,
   "metadata": {},
   "outputs": [],
   "source": [
    "def input_options(file,query_column):\n",
    "    return (file,query_column)\n",
    "\n",
    "file_widget =widgets.Text(\n",
    "       placeholder='',\n",
    "       description=\"File path\",\n",
    "       disabled=False,\n",
    "       style={'description_width': 'initial'}\n",
    ") \n",
    "query_column_widget =widgets.Text(\n",
    "       value='Substance Number',\n",
    "       description=\"Column name\",\n",
    "       disabled=False,\n",
    "       style={'description_width': 'initial'}\n",
    ") \n",
    "\n",
    "interactive(input_options,file=file_widget,query_column=query_column_widget)    \n"
   ]
  },
  {
   "cell_type": "code",
   "execution_count": null,
   "metadata": {},
   "outputs": [],
   "source": [
    "# read the file to iterate\n",
    "ext = \".xlsx\"\n",
    "if file_widget.value.endswith(ext):\n",
    "    df = pd.read_excel(file_widget.value) \n",
    "else:\n",
    "    ext=\".csv\"\n",
    "    df = pd.read_csv(file_widget.value) \n"
   ]
  },
  {
   "cell_type": "code",
   "execution_count": null,
   "metadata": {},
   "outputs": [],
   "source": [
    "df.head()"
   ]
  },
  {
   "cell_type": "code",
   "execution_count": null,
   "metadata": {},
   "outputs": [],
   "source": [
    "from  rdkit  import  Chem\n",
    "importlib.reload(client_ambit)\n",
    "\n",
    "cli = client_ambit.AMBITQueryCompound(ambit_uri)\n",
    "\n",
    "def create_smiles(molblock):\n",
    "    m = Chem.MolFromMolBlock(molblock,strictParsing=False)\n",
    "    if m is None:\n",
    "        smi=None\n",
    "    else:\n",
    "        smi = Chem.MolToSmiles(m,isomericSmiles=True)\n",
    "    return smi  \n",
    "\n",
    "\n",
    "\n",
    "def query2smiles(q):\n",
    "    \n",
    "    if pd.isnull(q):\n",
    "        return q\n",
    "    else:\n",
    "        try:\n",
    "            r = cli.get(params={'search':q,'type':'auto'},media='chemical/x-mdl-sdfile',auth=auth_object)\n",
    "            if r.status_code==200:\n",
    "                return create_smiles(r.text)    \n",
    "            else:\n",
    "                return None\n",
    "        except Exception as err:    \n",
    "            print(err)\n",
    "            return None\n",
    "#query by value in the specified column name\n",
    "\n",
    "print(df.shape)\n"
   ]
  },
  {
   "cell_type": "code",
   "execution_count": null,
   "metadata": {},
   "outputs": [],
   "source": [
    "\n",
    "\n",
    "page=2000\n",
    "start=0\n",
    "_end = df.shape[0]\n",
    "#_end =10\n",
    "while start < _end:\n",
    "    _to = start+page-1\n",
    "    if _to>=_end:\n",
    "        _to = df.shape[0]-1\n",
    "    print(\"Working on {}:{}\".format(start,_to))\n",
    "    #display(df.iloc[start:_to].head())\n",
    "    _slice=df.iloc[start:_to+1]\n",
    "    smiles = _slice[query_column_widget.value].apply(query2smiles)\n",
    "    outfile=file_widget.value.replace(ext,\"{}_{}_SMILES.xlsx\".format(start,_to))\n",
    "    _slice['SMILES']=smiles\n",
    "    _slice.to_excel(outfile)\n",
    "    start = start + page"
   ]
  },
  {
   "cell_type": "code",
   "execution_count": null,
   "metadata": {},
   "outputs": [],
   "source": [
    "\n",
    "start=0\n",
    "_end = df.shape[0]\n",
    "_all = []\n",
    "while start < _end:\n",
    "    _to = start+page-1\n",
    "    if _to>=_end:\n",
    "        _to = df.shape[0]-1\n",
    "    print(\"Working on {}:{}\".format(start,_to))\n",
    "\n",
    "    outfile=file_widget.value.replace(ext,\"{}_{}_SMILES.xlsx\".format(start,_to))\n",
    "    _slice = pd.read_excel(outfile)\n",
    "    _all.append(_slice)\n",
    "    start = start + page\n",
    "_all = pd.concat(_all)     \n",
    "_all.to_excel(file_widget.value.replace(ext,\"_SMILES.xlsx\"))"
   ]
  },
  {
   "cell_type": "code",
   "execution_count": null,
   "metadata": {},
   "outputs": [],
   "source": [
    "cli = client_ambit.AMBITSubstance(ambit_uri)\n",
    "def query2substancetype(q):\n",
    "    \n",
    "    if pd.isnull(q):\n",
    "        return q\n",
    "    elif q==\"-\":\n",
    "        return None\n",
    "    elif q.strip()==\"\":\n",
    "        return None    \n",
    "    else:\n",
    "        try:\n",
    "            r = cli.get(params={'search':\"^{}$\".format(q),'type':'regexp'},media='application/json',auth=auth_object)\n",
    "            if r.status_code==200:\n",
    "                substance = cli.parse(r.json())   \n",
    "                if len(substance)>0: \n",
    "                    return substance[0]['substanceType']\n",
    "                else:\n",
    "                    return None\n",
    "                    \n",
    "            else:\n",
    "                return None\n",
    "        except Exception as err:    \n",
    "            print(err)\n",
    "            return None\n",
    "        \n",
    "results = df[\"Substance Name\"].apply(query2substancetype)                    \n",
    "#query2substancetype(\"(1-methyl-1,2-ethanediyl)bis[oxy(methyl-2,1-ethanediyl)] diacrylate\")        \n",
    "#results"
   ]
  },
  {
   "cell_type": "code",
   "execution_count": null,
   "metadata": {},
   "outputs": [],
   "source": [
    "df['substance_type']=results\n",
    "df.head()\n",
    "df.to_excel(file_widget.value.replace(\".xlsx\",\"_SMILES_substancetype.xlsx\"))"
   ]
  },
  {
   "cell_type": "code",
   "execution_count": null,
   "metadata": {},
   "outputs": [],
   "source": []
  }
 ],
 "metadata": {
  "kernelspec": {
   "display_name": "Python 3",
   "language": "python",
   "name": "python3"
  },
  "language_info": {
   "codemirror_mode": {
    "name": "ipython",
    "version": 3
   },
   "file_extension": ".py",
   "mimetype": "text/x-python",
   "name": "python",
   "nbconvert_exporter": "python",
   "pygments_lexer": "ipython3",
   "version": "3.8.10"
  },
  "toc": {
   "base_numbering": 1,
   "nav_menu": {},
   "number_sections": false,
   "sideBar": false,
   "skip_h1_title": false,
   "title_cell": "Table of Contents",
   "title_sidebar": "Contents",
   "toc_cell": false,
   "toc_position": {},
   "toc_section_display": false,
   "toc_window_display": false
  }
 },
 "nbformat": 4,
 "nbformat_minor": 2
}
